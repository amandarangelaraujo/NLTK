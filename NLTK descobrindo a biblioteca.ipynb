{
 "cells": [
  {
   "cell_type": "code",
   "execution_count": 1,
   "id": "c6364e87",
   "metadata": {
    "collapsed": true
   },
   "outputs": [
    {
     "name": "stdout",
     "output_type": "stream",
     "text": [
      "Requirement already satisfied: seaborn==0.11.0 in c:\\users\\amandarangel\\anaconda3\\lib\\site-packages (0.11.0)\n",
      "Requirement already satisfied: numpy>=1.15 in c:\\users\\amandarangel\\anaconda3\\lib\\site-packages (from seaborn==0.11.0) (1.24.3)\n",
      "Requirement already satisfied: scipy>=1.0 in c:\\users\\amandarangel\\anaconda3\\lib\\site-packages (from seaborn==0.11.0) (1.11.1)\n",
      "Requirement already satisfied: pandas>=0.23 in c:\\users\\amandarangel\\anaconda3\\lib\\site-packages (from seaborn==0.11.0) (2.0.3)\n",
      "Requirement already satisfied: matplotlib>=2.2 in c:\\users\\amandarangel\\anaconda3\\lib\\site-packages (from seaborn==0.11.0) (3.7.2)\n",
      "Requirement already satisfied: contourpy>=1.0.1 in c:\\users\\amandarangel\\anaconda3\\lib\\site-packages (from matplotlib>=2.2->seaborn==0.11.0) (1.0.5)\n",
      "Requirement already satisfied: cycler>=0.10 in c:\\users\\amandarangel\\anaconda3\\lib\\site-packages (from matplotlib>=2.2->seaborn==0.11.0) (0.11.0)\n",
      "Requirement already satisfied: fonttools>=4.22.0 in c:\\users\\amandarangel\\anaconda3\\lib\\site-packages (from matplotlib>=2.2->seaborn==0.11.0) (4.25.0)\n",
      "Requirement already satisfied: kiwisolver>=1.0.1 in c:\\users\\amandarangel\\anaconda3\\lib\\site-packages (from matplotlib>=2.2->seaborn==0.11.0) (1.4.4)\n",
      "Requirement already satisfied: packaging>=20.0 in c:\\users\\amandarangel\\anaconda3\\lib\\site-packages (from matplotlib>=2.2->seaborn==0.11.0) (23.1)\n",
      "Requirement already satisfied: pillow>=6.2.0 in c:\\users\\amandarangel\\anaconda3\\lib\\site-packages (from matplotlib>=2.2->seaborn==0.11.0) (10.2.0)\n",
      "Requirement already satisfied: pyparsing<3.1,>=2.3.1 in c:\\users\\amandarangel\\anaconda3\\lib\\site-packages (from matplotlib>=2.2->seaborn==0.11.0) (3.0.9)\n",
      "Requirement already satisfied: python-dateutil>=2.7 in c:\\users\\amandarangel\\anaconda3\\lib\\site-packages (from matplotlib>=2.2->seaborn==0.11.0) (2.8.2)\n",
      "Requirement already satisfied: pytz>=2020.1 in c:\\users\\amandarangel\\anaconda3\\lib\\site-packages (from pandas>=0.23->seaborn==0.11.0) (2023.3.post1)\n",
      "Requirement already satisfied: tzdata>=2022.1 in c:\\users\\amandarangel\\anaconda3\\lib\\site-packages (from pandas>=0.23->seaborn==0.11.0) (2023.3)\n",
      "Requirement already satisfied: six>=1.5 in c:\\users\\amandarangel\\anaconda3\\lib\\site-packages (from python-dateutil>=2.7->matplotlib>=2.2->seaborn==0.11.0) (1.16.0)\n"
     ]
    },
    {
     "ename": "NameError",
     "evalue": "name 'sns' is not defined",
     "output_type": "error",
     "traceback": [
      "\u001b[1;31m---------------------------------------------------------------------------\u001b[0m",
      "\u001b[1;31mNameError\u001b[0m                                 Traceback (most recent call last)",
      "Cell \u001b[1;32mIn[1], line 2\u001b[0m\n\u001b[0;32m      1\u001b[0m get_ipython()\u001b[38;5;241m.\u001b[39msystem(\u001b[38;5;124m'\u001b[39m\u001b[38;5;124mpip install seaborn==0.11.0\u001b[39m\u001b[38;5;124m'\u001b[39m)\n\u001b[1;32m----> 2\u001b[0m sns\u001b[38;5;241m.\u001b[39m__version__\n",
      "\u001b[1;31mNameError\u001b[0m: name 'sns' is not defined"
     ]
    }
   ],
   "source": []
  },
  {
   "cell_type": "code",
   "execution_count": 140,
   "id": "8393e883",
   "metadata": {},
   "outputs": [],
   "source": [
    "import numpy as np\n",
    "import nltk\n",
    "from nltk.tokenize import word_tokenize\n",
    "from nltk.corpus import stopwords, inaugural\n",
    "from nltk.probability import FreqDist\n",
    "from nltk.collocations import BigramCollocationFinder\n",
    "from nltk.metrics import BigramAssocMeasures\n",
    "\n",
    "\n",
    "import matplotlib.pyplot as plt"
   ]
  },
  {
   "cell_type": "markdown",
   "id": "b5a4c4fd",
   "metadata": {},
   "source": [
    "# CORPORA NLTK\n"
   ]
  },
  {
   "cell_type": "code",
   "execution_count": 22,
   "id": "6e26f92d",
   "metadata": {},
   "outputs": [
    {
     "name": "stderr",
     "output_type": "stream",
     "text": [
      "[nltk_data] Downloading package gutenberg to\n",
      "[nltk_data]     C:\\Users\\AmandaRangel\\AppData\\Roaming\\nltk_data...\n",
      "[nltk_data]   Package gutenberg is already up-to-date!\n"
     ]
    },
    {
     "data": {
      "text/plain": [
       "True"
      ]
     },
     "execution_count": 22,
     "metadata": {},
     "output_type": "execute_result"
    }
   ],
   "source": [
    "\n",
    "#IMPORT BROWN QUE TEM VÁRIOS ARQUIVOS.\n",
    "nltk.download('gutenberg')"
   ]
  },
  {
   "cell_type": "code",
   "execution_count": null,
   "id": "1de130f2",
   "metadata": {},
   "outputs": [],
   "source": []
  },
  {
   "cell_type": "markdown",
   "id": "66012e33",
   "metadata": {},
   "source": [
    "## Importando o corpus"
   ]
  },
  {
   "cell_type": "code",
   "execution_count": 23,
   "id": "b72b2058",
   "metadata": {},
   "outputs": [
    {
     "name": "stdout",
     "output_type": "stream",
     "text": [
      "['austen-emma.txt', 'austen-persuasion.txt', 'austen-sense.txt', 'bible-kjv.txt', 'blake-poems.txt', 'bryant-stories.txt', 'burgess-busterbrown.txt', 'carroll-alice.txt', 'chesterton-ball.txt', 'chesterton-brown.txt', 'chesterton-thursday.txt', 'edgeworth-parents.txt', 'melville-moby_dick.txt', 'milton-paradise.txt', 'shakespeare-caesar.txt', 'shakespeare-hamlet.txt', 'shakespeare-macbeth.txt', 'whitman-leaves.txt']\n"
     ]
    }
   ],
   "source": [
    "arquivos = gutenberg.fileids() #DENTRO DE GUTENBERG QUAIS SÃO OS ARQUIVOS DISPONÍVEIS\n",
    "print(arquivos) "
   ]
  },
  {
   "cell_type": "code",
   "execution_count": 24,
   "id": "b228e9a1",
   "metadata": {},
   "outputs": [],
   "source": [
    "#importando o texto\n",
    "texto = gutenberg.raw('melville-moby_dick.txt')\n",
    "\n",
    "#tokenização\n",
    "tokens = nltk.word_tokenize(texto)"
   ]
  },
  {
   "cell_type": "code",
   "execution_count": 25,
   "id": "99798e35",
   "metadata": {},
   "outputs": [
    {
     "data": {
      "text/plain": [
       "list"
      ]
     },
     "execution_count": 25,
     "metadata": {},
     "output_type": "execute_result"
    }
   ],
   "source": [
    "type(tokens)"
   ]
  },
  {
   "cell_type": "markdown",
   "id": "856236de",
   "metadata": {},
   "source": [
    "## Análise de frequência\n"
   ]
  },
  {
   "cell_type": "code",
   "execution_count": 31,
   "id": "8a8360f1",
   "metadata": {},
   "outputs": [
    {
     "name": "stdout",
     "output_type": "stream",
     "text": [
      "Frequencia de distribuição das 20 palavras mais comuns:  [(',', 19204), ('the', 13715), ('.', 7306), ('of', 6513), ('and', 6010), ('a', 4545), ('to', 4515), (';', 4173), ('in', 3908), ('that', 2978), ('his', 2459), ('it', 2196), ('I', 2113), ('!', 1767), ('is', 1722), ('--', 1713), ('with', 1659), ('he', 1658), ('was', 1639), ('as', 1620)]\n"
     ]
    }
   ],
   "source": [
    "frequencia_distribuicao = FreqDist(tokens)\n",
    "frequencia_distribuicao.most_common(20)\n",
    "print(\"Frequencia de distribuição das 20 palavras mais comuns: \", frequencia_distribuicao.most_common(20))\n",
    "\n",
    "#ficou apenas as palvras que não tem tanto sentido"
   ]
  },
  {
   "cell_type": "code",
   "execution_count": 32,
   "id": "18fa9d54",
   "metadata": {},
   "outputs": [
    {
     "data": {
      "text/plain": [
       "list"
      ]
     },
     "execution_count": 32,
     "metadata": {},
     "output_type": "execute_result"
    }
   ],
   "source": [
    "#retirar as stop words\n",
    "stop_words = set(stopwords.words('english'))\n",
    "#cria uma lista com os tokens sem as stop-words\n",
    "tokens_ssw = [token for token in tokens if token.lower() not in stop_words]\n",
    "type(tokens_ssw)"
   ]
  },
  {
   "cell_type": "code",
   "execution_count": 33,
   "id": "21de3cfd",
   "metadata": {},
   "outputs": [
    {
     "name": "stdout",
     "output_type": "stream",
     "text": [
      "Frequencia de distribuição das 20 palavras mais comuns sem stop-words:  [(',', 19204), ('.', 7306), (';', 4173), ('!', 1767), ('--', 1713), (\"''\", 1615), (\"'s\", 1585), ('``', 1456), ('?', 1004), ('one', 880), ('whale', 782), ('like', 558), ('upon', 537), ('Ahab', 498), ('man', 472), ('ship', 454), ('old', 429), ('ye', 427), ('would', 425), ('sea', 365)]\n"
     ]
    }
   ],
   "source": [
    "#como agora os tokens estão sem stop-words vou tentar ver dnv a frequência, apesar de ser lista não esta funcionando\n",
    "frequencia_distribuicao = FreqDist(tokens_ssw)\n",
    "\n",
    "print(\"Frequencia de distribuição das 20 palavras mais comuns sem stop-words: \", frequencia_distribuicao.most_common(20))\n"
   ]
  },
  {
   "cell_type": "code",
   "execution_count": 34,
   "id": "68f2213b",
   "metadata": {},
   "outputs": [],
   "source": [
    "#como ainda tem muitos pontos então decidi deixar apenas os alphanumerics\n",
    "tokens_sem_pontuacao = [tokens for tokens in tokens_ssw if tokens.isalpha()]"
   ]
  },
  {
   "cell_type": "code",
   "execution_count": 92,
   "id": "4a410713",
   "metadata": {},
   "outputs": [
    {
     "name": "stdout",
     "output_type": "stream",
     "text": [
      "Frequencia de distribuição das 20 palavras mais comuns:  [('one', 880), ('whale', 782), ('like', 558), ('upon', 537), ('Ahab', 498), ('man', 472), ('ship', 454), ('old', 429), ('ye', 427), ('would', 425), ('sea', 365), ('though', 335), ('time', 316), ('long', 305), ('said', 302), ('still', 299), ('yet', 299), ('great', 290), ('must', 283), ('seemed', 283), ('boat', 281), ('two', 275), ('last', 275), ('head', 270), ('Whale', 270), ('way', 262), ('Queequeg', 252), ('Stubb', 252), ('see', 250), ('little', 247)]\n"
     ]
    }
   ],
   "source": [
    "frequencia_distribuicao = FreqDist(tokens_sem_pontuacao)\n",
    "\n",
    "print(\"Frequencia de distribuição das 20 palavras mais comuns: \", frequencia_distribuicao.most_common(30))"
   ]
  },
  {
   "cell_type": "code",
   "execution_count": 113,
   "id": "86b8e6d7",
   "metadata": {},
   "outputs": [],
   "source": [
    "frequencia_distribuicao = dict(frequencia_distribuicao)\n"
   ]
  },
  {
   "cell_type": "code",
   "execution_count": 114,
   "id": "dc099555",
   "metadata": {},
   "outputs": [],
   "source": [
    "indice = [\"A\"]\n",
    "df = pd.DataFrame(frequencia_distribuicao, index = indice)"
   ]
  },
  {
   "cell_type": "code",
   "execution_count": 115,
   "id": "c6a37e58",
   "metadata": {},
   "outputs": [],
   "source": [
    "df = df.transpose()"
   ]
  },
  {
   "cell_type": "code",
   "execution_count": 116,
   "id": "ce471a82",
   "metadata": {},
   "outputs": [],
   "source": [
    "df.reset_index(inplace=True)"
   ]
  },
  {
   "cell_type": "code",
   "execution_count": 117,
   "id": "7940b2db",
   "metadata": {},
   "outputs": [],
   "source": [
    "df.rename(columns ={\"index\":\"palavra\", \"A\":\"frequencia\"}, inplace=True)"
   ]
  },
  {
   "cell_type": "code",
   "execution_count": 118,
   "id": "20ebbdf4",
   "metadata": {},
   "outputs": [
    {
     "data": {
      "text/html": [
       "<div>\n",
       "<style scoped>\n",
       "    .dataframe tbody tr th:only-of-type {\n",
       "        vertical-align: middle;\n",
       "    }\n",
       "\n",
       "    .dataframe tbody tr th {\n",
       "        vertical-align: top;\n",
       "    }\n",
       "\n",
       "    .dataframe thead th {\n",
       "        text-align: right;\n",
       "    }\n",
       "</style>\n",
       "<table border=\"1\" class=\"dataframe\">\n",
       "  <thead>\n",
       "    <tr style=\"text-align: right;\">\n",
       "      <th></th>\n",
       "      <th>palavra</th>\n",
       "      <th>frequencia</th>\n",
       "    </tr>\n",
       "  </thead>\n",
       "  <tbody>\n",
       "    <tr>\n",
       "      <th>0</th>\n",
       "      <td>Moby</td>\n",
       "      <td>82</td>\n",
       "    </tr>\n",
       "    <tr>\n",
       "      <th>1</th>\n",
       "      <td>Dick</td>\n",
       "      <td>82</td>\n",
       "    </tr>\n",
       "    <tr>\n",
       "      <th>2</th>\n",
       "      <td>Herman</td>\n",
       "      <td>1</td>\n",
       "    </tr>\n",
       "    <tr>\n",
       "      <th>3</th>\n",
       "      <td>Melville</td>\n",
       "      <td>1</td>\n",
       "    </tr>\n",
       "    <tr>\n",
       "      <th>4</th>\n",
       "      <td>ETYMOLOGY</td>\n",
       "      <td>1</td>\n",
       "    </tr>\n",
       "    <tr>\n",
       "      <th>5</th>\n",
       "      <td>Supplied</td>\n",
       "      <td>2</td>\n",
       "    </tr>\n",
       "    <tr>\n",
       "      <th>6</th>\n",
       "      <td>Late</td>\n",
       "      <td>1</td>\n",
       "    </tr>\n",
       "    <tr>\n",
       "      <th>7</th>\n",
       "      <td>Consumptive</td>\n",
       "      <td>1</td>\n",
       "    </tr>\n",
       "    <tr>\n",
       "      <th>8</th>\n",
       "      <td>Usher</td>\n",
       "      <td>2</td>\n",
       "    </tr>\n",
       "    <tr>\n",
       "      <th>9</th>\n",
       "      <td>Grammar</td>\n",
       "      <td>2</td>\n",
       "    </tr>\n",
       "  </tbody>\n",
       "</table>\n",
       "</div>"
      ],
      "text/plain": [
       "       palavra  frequencia\n",
       "0         Moby          82\n",
       "1         Dick          82\n",
       "2       Herman           1\n",
       "3     Melville           1\n",
       "4    ETYMOLOGY           1\n",
       "5     Supplied           2\n",
       "6         Late           1\n",
       "7  Consumptive           1\n",
       "8        Usher           2\n",
       "9      Grammar           2"
      ]
     },
     "execution_count": 118,
     "metadata": {},
     "output_type": "execute_result"
    }
   ],
   "source": [
    "df.iloc[0:10]"
   ]
  },
  {
   "cell_type": "code",
   "execution_count": 124,
   "id": "2952be39",
   "metadata": {},
   "outputs": [],
   "source": [
    "df.sort_values(by=\"frequencia\", ascending=False, inplace=True)"
   ]
  },
  {
   "cell_type": "code",
   "execution_count": 133,
   "id": "51a65852",
   "metadata": {},
   "outputs": [
    {
     "data": {
      "text/plain": [
       "<Axes: xlabel='palavra', ylabel='frequencia'>"
      ]
     },
     "execution_count": 133,
     "metadata": {},
     "output_type": "execute_result"
    },
    {
     "data": {
      "image/png": "[encoded data removed]",
      "text/plain": [
       "<Figure size 640x480 with 1 Axes>"
      ]
     },
     "metadata": {},
     "output_type": "display_data"
    }
   ],
   "source": [
    "sns.barplot(x=df.iloc[0:10].palavra, y=df.iloc[0:10].frequencia)"
   ]
  },
  {
   "cell_type": "markdown",
   "id": "d52fcf8b",
   "metadata": {},
   "source": [
    "## Análise de colocação"
   ]
  },
  {
   "cell_type": "code",
   "execution_count": 138,
   "id": "95ff8ecf",
   "metadata": {},
   "outputs": [
    {
     "name": "stdout",
     "output_type": "stream",
     "text": [
      "Bigramas mais associados:\n",
      "('Sperm', 'Whale') 1307.474353368907\n",
      "('Moby', 'Dick') 1301.5418472196086\n",
      "('White', 'Whale') 824.3768386209906\n",
      "('Captain', 'Ahab') 425.178265810517\n",
      "('old', 'man') 420.3856939300205\n"
     ]
    }
   ],
   "source": [
    "#identificação dos bigramas(duas palavras que aparecem juntas com certa frequência)\n",
    "finder = BigramCollocationFinder.from_words(tokens_sem_pontuacao)\n",
    "\n",
    "\n",
    "bigramas_associacao = finder.score_ngrams(BigramAssocMeasures.likelihood_ratio)\n",
    "\n",
    "print(\"Bigramas mais associados:\")\n",
    "for bigrama, associacao in bigramas_associacao[:5]:\n",
    "    print(bigrama, associacao)"
   ]
  },
  {
   "cell_type": "markdown",
   "id": "dc0137b3",
   "metadata": {},
   "source": [
    "- likelihood-ratio: uma medida usada para avaliar a força de associação entre duas variáveis\n",
    "- BigramsAssocMeasures: uma classe que contem várias medidas para bigramas\n",
    "- score_ngrams: usado para calcular score de associação dos bigramas\n",
    "Ou seja o score_ngrams encontra os bigramas e passamos o bigramAssocMeasures.likeihood_ratio como o parametro para qual tipo de medida o score_ngramas irá utilizar."
   ]
  },
  {
   "cell_type": "markdown",
   "id": "eed5c0f9",
   "metadata": {},
   "source": [
    "## Análise de concordância\n"
   ]
  },
  {
   "cell_type": "code",
   "execution_count": 146,
   "id": "ecf6f094",
   "metadata": {},
   "outputs": [
    {
     "name": "stdout",
     "output_type": "stream",
     "text": [
      "Displaying 25 of 82 matches:\n",
      " Moby Dick Herman Melville ETYMOLOGY Suppli\n",
      "b said Tashtego white whale must call Moby Dick Moby Dick shouted Ahab ye know w\n",
      "htego white whale must call Moby Dick Moby Dick shouted Ahab ye know white whale\n",
      "ike split jib squall Death devils men Moby Dick ye seen Moby Dick Moby Dick Capt\n",
      "ll Death devils men Moby Dick ye seen Moby Dick Moby Dick Captain Ahab said Star\n",
      "evils men Moby Dick ye seen Moby Dick Moby Dick Captain Ahab said Starbuck Stubb\n",
      "t explained wonder Captain Ahab heard Moby Dick Moby Dick took thy leg told thee\n",
      "d wonder Captain Ahab heard Moby Dick Moby Dick took thy leg told thee cried Aha\n",
      "using Aye Starbuck aye hearties round Moby Dick dismasted Moby Dick brought dead\n",
      "ye hearties round Moby Dick dismasted Moby Dick brought dead stump stand Aye aye\n",
      "man sharp eye white whale sharp lance Moby Dick God bless ye seemed half sob hal\n",
      " wilt thou chase white whale art game Moby Dick game crooked jaw jaws Death Capt\n",
      " men man deathful whaleboat bow Death Moby Dick God hunt us hunt Moby Dick death\n",
      " bow Death Moby Dick God hunt us hunt Moby Dick death long barbed steel goblets \n",
      "preserve men bowels feel fear CHAPTER Moby Dick Ishmael one crew shouts gone res\n",
      "al individualizing tidings concerning Moby Dick hardly doubted several vessels r\n",
      "r presumption say whale question must Moby Dick Yet late Sperm Whale fishery mar\n",
      "efore accident ignorantly gave battle Moby Dick hunters perhaps part content asc\n",
      "lses accumulating piling terrors upon Moby Dick things gone far shake fortitude \n",
      "rnatural agencies eventually invested Moby Dick new terrors unborrowed anything \n",
      "ncerning fishermen recalled reference Moby Dick earlier days Sperm Whale fishery\n",
      "ess even face things ready give chase Moby Dick still greater number chancing he\n",
      "stitiously inclined unearthly conceit Moby Dick ubiquitous actually encountered \n",
      "emen go still superstitions declaring Moby Dick ubiquitous immortal immortality \n",
      "b suddenly sweeping lower jaw beneath Moby Dick reaped away Ahab leg mower blade\n"
     ]
    }
   ],
   "source": [
    "concordance_index = nltk.ConcordanceIndex(tokens_sem_pontuacao)\n",
    "\n",
    "palavra=\"Moby\"\n",
    "concordance_index.print_concordance(palavra)"
   ]
  },
  {
   "cell_type": "code",
   "execution_count": null,
   "id": "a3a374d4",
   "metadata": {},
   "outputs": [],
   "source": []
  }
 ],
 "metadata": {
  "kernelspec": {
   "display_name": "Python 3 (ipykernel)",
   "language": "python",
   "name": "python3"
  },
  "language_info": {
   "codemirror_mode": {
    "name": "ipython",
    "version": 3
   },
   "file_extension": ".py",
   "mimetype": "text/x-python",
   "name": "python",
   "nbconvert_exporter": "python",
   "pygments_lexer": "ipython3",
   "version": "3.11.5"
  }
 },
 "nbformat": 4,
 "nbformat_minor": 5
}
